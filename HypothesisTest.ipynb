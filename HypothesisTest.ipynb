{
  "nbformat": 4,
  "nbformat_minor": 0,
  "metadata": {
    "colab": {
      "provenance": []
    },
    "kernelspec": {
      "name": "python3",
      "display_name": "Python 3"
    },
    "language_info": {
      "name": "python"
    }
  },
  "cells": [
    {
      "cell_type": "code",
      "execution_count": 1,
      "metadata": {
        "colab": {
          "base_uri": "https://localhost:8080/"
        },
        "id": "XX5kZg4l485E",
        "outputId": "3dd086d3-aea5-4abc-8146-2eb29d710287"
      },
      "outputs": [
        {
          "output_type": "stream",
          "name": "stdout",
          "text": [
            "Contingency Table:\n",
            "                  Very Satisfied  Satisfied  Neutral  Unsatisfied  \\\n",
            "Smart Thermostat              50         80       60           30   \n",
            "Smart Light                   70        100       90           50   \n",
            "\n",
            "                  Very Unsatisfied  \n",
            "Smart Thermostat                20  \n",
            "Smart Light                     50  \n",
            "\n",
            "Chi-Square Statistic: 5.638227513227513\n",
            "p-value: 0.22784371130697179\n",
            "Degrees of Freedom: 4\n",
            "Expected Frequencies:\n",
            " [[ 48.  72.  60.  32.  28.]\n",
            " [ 72. 108.  90.  48.  42.]]\n",
            "Critical Value at alpha = 0.05: 9.487729036781154\n",
            "Fail to reject the null hypothesis: No significant association.\n"
          ]
        }
      ],
      "source": [
        "#chisquare test\n",
        "import pandas as pd\n",
        "from scipy.stats import chi2_contingency, chi2\n",
        "data = {'Very Satisfied': [50, 70],'Satisfied': [80, 100],'Neutral': [60, 90],'Unsatisfied': [30, 50],'Very Unsatisfied': [20, 50]}\n",
        "df = pd.DataFrame(data, index=['Smart Thermostat', 'Smart Light'])\n",
        "print(\"Contingency Table:\")\n",
        "print(df)\n",
        "chi2_stat, p_value, dof, expected = chi2_contingency(df)\n",
        "print(\"\\nChi-Square Statistic:\", chi2_stat)\n",
        "print(\"p-value:\", p_value)\n",
        "print(\"Degrees of Freedom:\", dof)\n",
        "print(\"Expected Frequencies:\\n\", expected)\n",
        "alpha = 0.05\n",
        "critical_value = chi2.ppf(1 - alpha, dof)\n",
        "print(\"Critical Value at alpha = 0.05:\", critical_value)\n",
        "if chi2_stat < critical_value:\n",
        "    print(\"Fail to reject the null hypothesis: No significant association.\")\n",
        "else:\n",
        "    print(\"Reject the null hypothesis: There is a significant association.\")\n"
      ]
    },
    {
      "cell_type": "code",
      "source": [
        "import scipy.stats as stats\n",
        "sample_mean = 3050\n",
        "theoretical_mean = 1000 + 5 * 600\n",
        "n = 25\n",
        "sigma = 5 * 25\n",
        "t_stat = (sample_mean - theoretical_mean) / (sigma / (n ** 0.5))\n",
        "alpha = 0.05\n",
        "df = n - 1\n",
        "t_critical = stats.t.ppf(1 - alpha, df)\n",
        "if t_stat < t_critical:\n",
        "    decision = \"Fail to reject the null hypothesis.\"\n",
        "else:\n",
        "    decision = \"Reject the null hypothesis.\"\n",
        "conclusion = \"Not enough evidence to support the claim.\" if decision == \"Fail to reject the null hypothesis.\" else \"Strong evidence to support the claim.\"\n",
        "print(\"Test Statistic (t):\", t_stat)\n",
        "print(\"Critical Value (t) at alpha = 0.05:\", t_critical)\n",
        "print(\"Decision:\", decision)\n",
        "print(\"Conclusion:\", conclusion)\n"
      ],
      "metadata": {
        "colab": {
          "base_uri": "https://localhost:8080/"
        },
        "id": "eSg6hIDm6qxp",
        "outputId": "d8eab054-e661-42f6-a3c3-fbd8d5ab8537"
      },
      "execution_count": 2,
      "outputs": [
        {
          "output_type": "stream",
          "name": "stdout",
          "text": [
            "Test Statistic (t): -38.0\n",
            "Critical Value (t) at alpha = 0.05: 1.7108820799094275\n",
            "Decision: Fail to reject the null hypothesis.\n",
            "Conclusion: Not enough evidence to support the claim.\n"
          ]
        }
      ]
    }
  ]
}